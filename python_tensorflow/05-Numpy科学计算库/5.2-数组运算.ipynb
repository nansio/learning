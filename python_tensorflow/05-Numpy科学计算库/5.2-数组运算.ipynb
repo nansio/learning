{
 "cells": [
  {
   "cell_type": "markdown",
   "id": "7b7696a3",
   "metadata": {},
   "source": [
    "# 1. 数组间运算\n",
    "\n",
    "1. 数组元素切片\n",
    "2. 改变数组形状\n",
    "3. 加法\n",
    "4. 乘法\n",
    "5. 转置与求逆"
   ]
  },
  {
   "cell_type": "markdown",
   "id": "caf287c5",
   "metadata": {},
   "source": [
    "## 数组元素切片"
   ]
  },
  {
   "cell_type": "code",
   "execution_count": 1,
   "id": "a52d717d",
   "metadata": {},
   "outputs": [
    {
     "name": "stdout",
     "output_type": "stream",
     "text": [
      "[0 1]\n",
      "[[ 4  5  6  7]\n",
      " [ 8  9 10 11]]\n",
      "[[5 6]]\n",
      "[[[1 2]]]\n"
     ]
    }
   ],
   "source": [
    "import numpy as np\n",
    "\n",
    "# 一维数组切片\n",
    "a = np.array([0,1,2,3])\n",
    "print(a[:2])\n",
    "# 二维数组切片\n",
    "b = np.array([[0,1,2,3],[4,5,6,7],[8,9,10,11]])\n",
    "print(b[1:3]) # 第2,3行\n",
    "print(b[1:2,1:3]) # 第2行 第2，3列\n",
    "# 三维数组切片\n",
    "c = np.array([\n",
    "    [\n",
    "        [0,1,2,3],\n",
    "        [4,5,6,7],\n",
    "        [8,9,10,11]\n",
    "    ],\n",
    "    [\n",
    "        [12,13,14,15],\n",
    "        [16,17,18,19],\n",
    "        [20,21,22,23]\n",
    "    ]\n",
    "])\n",
    "print(c[:1,:1,1:3]) # 第一层 第一行 第2，3列"
   ]
  },
  {
   "cell_type": "markdown",
   "id": "66f6eeb5",
   "metadata": {},
   "source": [
    "### 改变数组的形状\n",
    "\n",
    "`np.reshape(shape)`：不改变当前数组，根据shape重新创建新的数组\n",
    "\n",
    "`np.resize(shape)`：改变当前数组"
   ]
  },
  {
   "cell_type": "code",
   "execution_count": 4,
   "id": "22022963",
   "metadata": {},
   "outputs": [
    {
     "name": "stdout",
     "output_type": "stream",
     "text": [
      "[ 0  1  2  3  4  5  6  7  8  9 10 11]\n",
      "[[ 0  1  2  3  4  5]\n",
      " [ 6  7  8  9 10 11]]\n",
      "[[ 0  1  2]\n",
      " [ 3  4  5]\n",
      " [ 6  7  8]\n",
      " [ 9 10 11]]\n"
     ]
    }
   ],
   "source": [
    "origin = np.arange(12)\n",
    "origin.reshape(3,4)\n",
    "print(origin)\n",
    "origin.resize(2,6)\n",
    "print(origin)\n",
    "converted = origin.reshape(-1,3) # 当shape中的参数被设置为-1时 即表示根据元素个数自动计算\n",
    "print(converted)"
   ]
  },
  {
   "cell_type": "markdown",
   "id": "5c7090e1",
   "metadata": {},
   "source": [
    "### 加法运算 (+)\n",
    "\n",
    "- 相加的2个数组的形状和长度应该一致，否则就会出错\n",
    "- 一维数组可以和多维数组相加，相加时会将一维数组扩展至多维"
   ]
  },
  {
   "cell_type": "code",
   "execution_count": 16,
   "id": "ca46f8c3",
   "metadata": {},
   "outputs": [
    {
     "name": "stdout",
     "output_type": "stream",
     "text": [
      "a: [0 1 2 3]\n",
      "b: [2 3 4 5]\n",
      "r: [2 4 6 8]\n",
      "---------------------\n",
      "a: [0 1 2 3]\n",
      "c: [[0 1 2 3]\n",
      " [4 5 6 7]]\n",
      "r2: [[ 0  2  4  6]\n",
      " [ 4  6  8 10]]\n"
     ]
    }
   ],
   "source": [
    "# 相同长度的加法\n",
    "pa = np.arange(4)\n",
    "pb = np.arange(2,6)\n",
    "pr = pa + pb\n",
    "print('a:',pa)\n",
    "print('b:',pb)\n",
    "print('r:',pr)\n",
    "\n",
    "print('-'*21)\n",
    "# 一维 + 多维\n",
    "\n",
    "pc =  np.arange(8).reshape(2,4)\n",
    "print('a:',pa)\n",
    "print('c:',pc)\n",
    "pr2 = pa + pc\n",
    "print('r2:',pr2)"
   ]
  },
  {
   "cell_type": "markdown",
   "id": "c047951f",
   "metadata": {},
   "source": [
    "### 矩阵乘法\n",
    "\n",
    "- 乘号运算符：矩阵中对应元素分别相乘（运算符为 `*` ）\n",
    "- 矩阵相乘：按照矩阵相乘的规则运算（运算符为 `np.matmul(A,B)`或者`np.dot(A,B)`）"
   ]
  },
  {
   "cell_type": "code",
   "execution_count": 20,
   "id": "ffb0d260",
   "metadata": {},
   "outputs": [
    {
     "name": "stdout",
     "output_type": "stream",
     "text": [
      "[[1 1]\n",
      " [0 1]] *\n",
      "[[2 0]\n",
      " [3 4]] =\n",
      "[[2 0]\n",
      " [0 4]]\n",
      "---------------------\n",
      "[[5 4]\n",
      " [3 4]]\n"
     ]
    }
   ],
   "source": [
    "# 乘号运算符\n",
    "ma = np.array([[1,1],\n",
    "               [0,1]])\n",
    "mb = np.array([[2,0],\n",
    "               [3,4]])\n",
    "mr = ma * mb\n",
    "print(ma,'*')\n",
    "print(mb,'=')\n",
    "print(mr)\n",
    "print('-'*21)\n",
    "# 矩阵乘法\n",
    "mr2 = np.matmul(ma,mb)\n",
    "print(mr2)"
   ]
  },
  {
   "cell_type": "markdown",
   "id": "52b9f293",
   "metadata": {},
   "source": [
    "### 转置与求逆\n",
    "\n",
    "转置：`np.transpose()`，求逆：`np.linalg.inv()`"
   ]
  },
  {
   "cell_type": "code",
   "execution_count": 23,
   "id": "cc2543ac",
   "metadata": {},
   "outputs": [
    {
     "name": "stdout",
     "output_type": "stream",
     "text": [
      "[[1 3]\n",
      " [2 4]]\n",
      "[[-2.   1. ]\n",
      " [ 1.5 -0.5]]\n"
     ]
    }
   ],
   "source": [
    "A = np.array([[1,2],\n",
    "              [3,4]])\n",
    "A1 = np.transpose(A)\n",
    "A2 = np.linalg.inv(A)\n",
    "print(A1)\n",
    "print(A2)"
   ]
  },
  {
   "cell_type": "markdown",
   "id": "2dec4497",
   "metadata": {},
   "source": [
    "# 2. 数组元素间运算\n",
    "\n",
    "| 函数 | 功能描述 |\n",
    "| :---- | :----|\n",
    "| np.sum() | 计算所有元素的和 |\n",
    "| np.prod() | 计算所有元素的乘积 |\n",
    "| np.diff() | 计算数组相邻元素之间的差 |\n",
    "| np.sqrt() | 计算各元素的平方根 |\n",
    "| np.exp() | 计算各元素的指数值 |\n",
    "| np.abs() | 取各元素的绝对值 |"
   ]
  },
  {
   "cell_type": "code",
   "execution_count": null,
   "id": "02c0b6a3",
   "metadata": {},
   "outputs": [],
   "source": []
  },
  {
   "cell_type": "code",
   "execution_count": null,
   "id": "602281c4",
   "metadata": {},
   "outputs": [],
   "source": []
  },
  {
   "cell_type": "code",
   "execution_count": null,
   "id": "5a6c2a38",
   "metadata": {},
   "outputs": [],
   "source": []
  }
 ],
 "metadata": {
  "kernelspec": {
   "display_name": "Python 3",
   "language": "python",
   "name": "python3"
  },
  "language_info": {
   "codemirror_mode": {
    "name": "ipython",
    "version": 3
   },
   "file_extension": ".py",
   "mimetype": "text/x-python",
   "name": "python",
   "nbconvert_exporter": "python",
   "pygments_lexer": "ipython3",
   "version": "3.8.8"
  }
 },
 "nbformat": 4,
 "nbformat_minor": 5
}
