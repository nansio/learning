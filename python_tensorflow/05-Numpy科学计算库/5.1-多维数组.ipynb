{
 "cells": [
  {
   "cell_type": "markdown",
   "id": "30520443",
   "metadata": {},
   "source": [
    "# 多维数组"
   ]
  },
  {
   "cell_type": "markdown",
   "id": "ec8af1cc",
   "metadata": {},
   "source": [
    "### 多维数组的形状\n",
    "\n",
    "数组的形状Shape用一个元组来表示，它描述了数组的维数和长度。\n",
    "\n",
    "`(5,3)`表示一个五行三列的二维数组"
   ]
  },
  {
   "cell_type": "markdown",
   "id": "b26524e6",
   "metadata": {},
   "source": [
    "# NumPy\n",
    "\n",
    "Numberic Python: 提供了多维数组、矩阵的常用操作和一些高效的科学计算函数\n",
    "\n",
    "数组的属性：\n",
    "\n",
    "|属性|描述|\n",
    "| :----: | :---- |\n",
    "|ndim|数组的维数|\n",
    "|shape|数组的形状|\n",
    "|size|数组元素的总个数|\n",
    "|dtype|数组中元素的数据类型|\n",
    "|itemsize|数组中每个元素的字节数|\n",
    "\n",
    "Numpy要求数组中所有元素的数据类型必须是一致的\n",
    "\n",
    "在使用`np.array`创建数组时可通过`np.array([0,1,2], dtype=np.int64)`指定元素数据类型"
   ]
  },
  {
   "cell_type": "code",
   "execution_count": 3,
   "id": "fa110109",
   "metadata": {},
   "outputs": [
    {
     "name": "stdout",
     "output_type": "stream",
     "text": [
      "[0 1 2 3]\n",
      "<class 'numpy.ndarray'>\n",
      "1\n",
      "(4,)\n",
      "4\n",
      "int32\n",
      "4\n"
     ]
    }
   ],
   "source": [
    "# 一维数组\n",
    "\n",
    "import numpy as np\n",
    "a = np.array([0,1,2,3])\n",
    "print(a)\n",
    "print(type(a))\n",
    "print(a.ndim)\n",
    "print(a.shape)\n",
    "print(a.size)\n",
    "print(a.dtype)\n",
    "print(a.itemsize)"
   ]
  },
  {
   "cell_type": "code",
   "execution_count": 5,
   "id": "f2a35997",
   "metadata": {},
   "outputs": [
    {
     "name": "stdout",
     "output_type": "stream",
     "text": [
      "[[ 0  1  2  3]\n",
      " [ 4  5  6  7]\n",
      " [ 8  9 10 11]]\n",
      "2\n",
      "(3, 4)\n",
      "12\n",
      "int32\n",
      "4\n",
      "[0 1 2 3]\n",
      "1\n",
      "1\n"
     ]
    }
   ],
   "source": [
    "# 二维数组\n",
    "\n",
    "b = np.array([[0,1,2,3],[4,5,6,7],[8,9,10,11]])\n",
    "print(b)\n",
    "print(b.ndim)\n",
    "print(b.shape)\n",
    "print(b.size)\n",
    "print(b.dtype)\n",
    "print(b.itemsize)\n",
    "print(b[0])\n",
    "print(b[0,1])\n",
    "print(b[0][1])"
   ]
  },
  {
   "cell_type": "code",
   "execution_count": 6,
   "id": "fdaaeae3",
   "metadata": {},
   "outputs": [
    {
     "name": "stdout",
     "output_type": "stream",
     "text": [
      "[[[ 0  1  2  3]\n",
      "  [ 4  5  6  7]\n",
      "  [ 8  9 10 11]]\n",
      "\n",
      " [[12 13 14 15]\n",
      "  [16 17 18 19]\n",
      "  [20 21 22 23]]]\n",
      "3\n",
      "(2, 3, 4)\n",
      "24\n",
      "int32\n",
      "4\n",
      "[[ 0  1  2  3]\n",
      " [ 4  5  6  7]\n",
      " [ 8  9 10 11]]\n",
      "6\n",
      "6\n"
     ]
    }
   ],
   "source": [
    "# 三维数组\n",
    "\n",
    "c = np.array([[[0,1,2,3],[4,5,6,7],[8,9,10,11]],[[12,13,14,15],[16,17,18,19],[20,21,22,23]]])\n",
    "print(c)\n",
    "print(c.ndim)\n",
    "print(c.shape)\n",
    "print(c.size)\n",
    "print(c.dtype)\n",
    "print(c.itemsize)\n",
    "print(c[0])\n",
    "print(c[0,1,2])\n",
    "print(c[0][1][2])"
   ]
  },
  {
   "cell_type": "markdown",
   "id": "017f243d",
   "metadata": {},
   "source": [
    "### 创建特殊的数组\n",
    "\n",
    "| 函数 | 功能描述 |\n",
    "| :----:| ---- |\n",
    "| np.arange()| 创建数字序列数组 |\n",
    "| np.ones() | 创建全1数组 |\n",
    "| np.zeros() | 创建全0数组 |\n",
    "| np.eye() | 创建单位矩阵 |\n",
    "| np.linspace() | 创建等差数列 |\n",
    "| np.logspace() | 创建等比数列 |"
   ]
  },
  {
   "cell_type": "markdown",
   "id": "881d20e7",
   "metadata": {},
   "source": [
    "### 1. arange()函数：创建一个由数字序列构成的数组\n",
    "\n",
    "**np.range(起始数字，结束数字，步长，dtype)**\n",
    "\n",
    "前闭后开，数字序列不包含结束数字\n",
    "\n",
    "起始数字省略时，默认从0开始\n",
    "\n",
    "步长省略时，默认为1\n"
   ]
  },
  {
   "cell_type": "code",
   "execution_count": 8,
   "id": "55da2054",
   "metadata": {},
   "outputs": [
    {
     "name": "stdout",
     "output_type": "stream",
     "text": [
      "[0 1 2 3]\n",
      "[ 3  5  7  9 11]\n"
     ]
    }
   ],
   "source": [
    "d = np.arange(4)\n",
    "d_1 = np.arange(3,12,2, np.int64)\n",
    "print(d)\n",
    "print(d_1)"
   ]
  },
  {
   "cell_type": "markdown",
   "id": "c05127c8",
   "metadata": {},
   "source": [
    "### 2. ones()函数：创建一个元素全部为1的数组\n",
    "\n",
    "**np.ones(shape, dtype)**"
   ]
  },
  {
   "cell_type": "code",
   "execution_count": 10,
   "id": "a2b54201",
   "metadata": {},
   "outputs": [
    {
     "name": "stdout",
     "output_type": "stream",
     "text": [
      "[[1 1 1]\n",
      " [1 1 1]\n",
      " [1 1 1]]\n"
     ]
    }
   ],
   "source": [
    "e = np.ones((3,3), dtype=np.int16)\n",
    "print(e)"
   ]
  },
  {
   "cell_type": "markdown",
   "id": "7ae39263",
   "metadata": {},
   "source": [
    "### 3. zeros()函数：创建一个元素全部为0的数组\n",
    "\n",
    "**np.zeros(shape, dtype)**"
   ]
  },
  {
   "cell_type": "code",
   "execution_count": 12,
   "id": "2a905dec",
   "metadata": {},
   "outputs": [
    {
     "name": "stdout",
     "output_type": "stream",
     "text": [
      "[[0. 0. 0.]\n",
      " [0. 0. 0.]\n",
      " [0. 0. 0.]]\n"
     ]
    }
   ],
   "source": [
    "f = np.zeros((3,3))\n",
    "print(f)"
   ]
  },
  {
   "cell_type": "markdown",
   "id": "3d94c192",
   "metadata": {},
   "source": [
    "### 4. eye()函数：创建一个单位矩阵\n",
    "\n",
    "**np.eye(shape, dtype)**"
   ]
  },
  {
   "cell_type": "code",
   "execution_count": 14,
   "id": "e3a7f466",
   "metadata": {},
   "outputs": [
    {
     "name": "stdout",
     "output_type": "stream",
     "text": [
      "[[1. 0. 0. 0. 0.]\n",
      " [0. 1. 0. 0. 0.]\n",
      " [0. 0. 1. 0. 0.]\n",
      " [0. 0. 0. 1. 0.]\n",
      " [0. 0. 0. 0. 1.]]\n"
     ]
    }
   ],
   "source": [
    "g = np.eye(5,5)\n",
    "print(g)"
   ]
  },
  {
   "cell_type": "markdown",
   "id": "0e31e04b",
   "metadata": {},
   "source": [
    "### 5. linspace()函数：创建等差数列\n",
    "\n",
    "**np.linspace(start, stop, num=50, dtype)** 起始数字、结束数字、元素个数、数据类型"
   ]
  },
  {
   "cell_type": "code",
   "execution_count": 15,
   "id": "5dc0af51",
   "metadata": {},
   "outputs": [
    {
     "name": "stdout",
     "output_type": "stream",
     "text": [
      "[ 1.  2.  3.  4.  5.  6.  7.  8.  9. 10.]\n"
     ]
    }
   ],
   "source": [
    "h = np.linspace(1, 10, 10) # 注意这里包含stop数值的，即闭区间\n",
    "print(h)"
   ]
  },
  {
   "cell_type": "markdown",
   "id": "70bbc738",
   "metadata": {},
   "source": [
    "### 6. logspace()函数：创建一个等比数列\n",
    "\n",
    "**np.logspace(start, stop, num=50, base=10, dtype)** 起始指数、结束指数、元素个数、基以及数据类型"
   ]
  },
  {
   "cell_type": "code",
   "execution_count": 21,
   "id": "5d7fabd9",
   "metadata": {},
   "outputs": [
    {
     "name": "stdout",
     "output_type": "stream",
     "text": [
      "[ 2.  4.  8. 16. 32.]\n"
     ]
    }
   ],
   "source": [
    "i = np.logspace(1, 5, num=5, base=2)\n",
    "print(i)"
   ]
  },
  {
   "cell_type": "markdown",
   "id": "29e7ad1e",
   "metadata": {},
   "source": [
    "### 7. asarray()函数：将列表或元组转换为数组对象"
   ]
  },
  {
   "cell_type": "code",
   "execution_count": 22,
   "id": "42e67be7",
   "metadata": {},
   "outputs": [
    {
     "name": "stdout",
     "output_type": "stream",
     "text": [
      "list1:\n",
      " [[3, 1, 1], [1, 1, 1], [1, 1, 1]]\n",
      "arr1:\n",
      " [[1 1 1]\n",
      " [1 1 1]\n",
      " [1 1 1]]\n",
      "arr2:\n",
      " [[1 1 1]\n",
      " [1 1 1]\n",
      " [1 1 1]]\n"
     ]
    }
   ],
   "source": [
    "# 使用asarray()函数将 python 的列表转换成npdarray时 是直接拷贝的值\n",
    "list1 = [[1,1,1],[1,1,1],[1,1,1]]\n",
    "arr1 = np.array(list1)\n",
    "arr2 = np.asarray(list1)\n",
    "list1[0][0] = 3\n",
    "print('list1:\\n', list1)\n",
    "print('arr1:\\n', arr1)\n",
    "print('arr2:\\n', arr2)"
   ]
  },
  {
   "cell_type": "code",
   "execution_count": 25,
   "id": "34147b74",
   "metadata": {},
   "outputs": [
    {
     "name": "stdout",
     "output_type": "stream",
     "text": [
      "arr1:\n",
      " [[1. 1. 1.]\n",
      " [1. 1. 1.]\n",
      " [1. 1. 1.]]\n",
      "arr2:\n",
      " [[3. 1. 1.]\n",
      " [1. 1. 1.]\n",
      " [1. 1. 1.]]\n"
     ]
    }
   ],
   "source": [
    "# 当数据源是 ndarray对象时，array()会赋值出一个副本，占用新的内存\n",
    "# 而 assarray()则不复制副本，直接引用原数组\n",
    "origin = np.ones((3,3))\n",
    "arr1 = np.array(origin)\n",
    "arr2 = np.asarray(origin)\n",
    "origin[0,0] = 3\n",
    "print('arr1:\\n', arr1)\n",
    "print('arr2:\\n', arr2)"
   ]
  }
 ],
 "metadata": {
  "kernelspec": {
   "display_name": "Python 3",
   "language": "python",
   "name": "python3"
  },
  "language_info": {
   "codemirror_mode": {
    "name": "ipython",
    "version": 3
   },
   "file_extension": ".py",
   "mimetype": "text/x-python",
   "name": "python",
   "nbconvert_exporter": "python",
   "pygments_lexer": "ipython3",
   "version": "3.8.8"
  }
 },
 "nbformat": 4,
 "nbformat_minor": 5
}
