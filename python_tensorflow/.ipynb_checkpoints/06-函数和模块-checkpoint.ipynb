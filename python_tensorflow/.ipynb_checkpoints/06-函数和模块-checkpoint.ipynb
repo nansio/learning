{
 "cells": [
  {
   "cell_type": "markdown",
   "id": "d478ebe8",
   "metadata": {},
   "source": [
    "# 函数\n",
    "\n",
    "Python的函数参数是按值传递的\n",
    "\n",
    "将列表/字典作为参数传递时，会改变实参的值"
   ]
  },
  {
   "cell_type": "code",
   "execution_count": 5,
   "id": "30404c07",
   "metadata": {},
   "outputs": [
    {
     "name": "stdout",
     "output_type": "stream",
     "text": [
      "3 1\n",
      "4\n",
      "[1, 2, 3, 4]\n"
     ]
    }
   ],
   "source": [
    "def calc(a, b) :\n",
    "    sum=a+b\n",
    "    diff=a-b\n",
    "    return sum,diff\n",
    "x,y = calc(2,1)\n",
    "print(x,y)\n",
    "\n",
    "# 默认参数\n",
    "def foo(a=1, b=3):\n",
    "    return a+b\n",
    "print(foo(1))\n",
    "\n",
    "def push4(list):\n",
    "    list.append(4)\n",
    "\n",
    "list = [1,2,3]\n",
    "\n",
    "push4(list)\n",
    "print(list)"
   ]
  },
  {
   "cell_type": "markdown",
   "id": "508606d5",
   "metadata": {},
   "source": [
    "### 常用内置函数"
   ]
  },
  {
   "cell_type": "code",
   "execution_count": null,
   "id": "e46e1354",
   "metadata": {},
   "outputs": [],
   "source": []
  },
  {
   "cell_type": "markdown",
   "id": "cfff5b74",
   "metadata": {},
   "source": [
    "# 模块\n",
    "\n",
    "模块，包，库"
   ]
  },
  {
   "cell_type": "code",
   "execution_count": null,
   "id": "a8fc5644",
   "metadata": {},
   "outputs": [],
   "source": [
    "# 引入整个包\n",
    "import numpy as np\n",
    "np.random.random()\n",
    "\n",
    "# 导入包中指定的模块或子包\n",
    "from numpy import *\n",
    "random.random()"
   ]
  },
  {
   "cell_type": "markdown",
   "id": "793dc43e",
   "metadata": {},
   "source": [
    "### Python标准库中常用模块\n",
    "\n",
    "- sys模块：提供有关Python运行环境的变量和函数\n",
    "- platform模块：获取操作系统的详细信息和与Python有关的信息\n",
    "- math模块：提供了常用的数学运算\n",
    "- random模块：生成随机数\n",
    "- 处理小数：decimal模块，处理分数：fractions模块\n",
    "- 时间处理模块：time,datetime,calendar"
   ]
  },
  {
   "cell_type": "code",
   "execution_count": 8,
   "id": "22479c2b",
   "metadata": {},
   "outputs": [
    {
     "name": "stdout",
     "output_type": "stream",
     "text": [
      "win32\n",
      "['C:\\\\zyn\\\\python-files', 'C:\\\\ProgramData\\\\Anaconda3\\\\python38.zip', 'C:\\\\ProgramData\\\\Anaconda3\\\\DLLs', 'C:\\\\ProgramData\\\\Anaconda3\\\\lib', 'C:\\\\ProgramData\\\\Anaconda3', '', 'C:\\\\ProgramData\\\\Anaconda3\\\\lib\\\\site-packages', 'C:\\\\ProgramData\\\\Anaconda3\\\\lib\\\\site-packages\\\\locket-0.2.1-py3.8.egg', 'C:\\\\ProgramData\\\\Anaconda3\\\\lib\\\\site-packages\\\\win32', 'C:\\\\ProgramData\\\\Anaconda3\\\\lib\\\\site-packages\\\\win32\\\\lib', 'C:\\\\ProgramData\\\\Anaconda3\\\\lib\\\\site-packages\\\\Pythonwin', 'C:\\\\ProgramData\\\\Anaconda3\\\\lib\\\\site-packages\\\\IPython\\\\extensions', 'C:\\\\Users\\\\admin\\\\.ipython']\n"
     ]
    }
   ],
   "source": [
    "import sys\n",
    "print(sys.platform)\n",
    "print(sys.path)"
   ]
  },
  {
   "cell_type": "code",
   "execution_count": null,
   "id": "14352e25",
   "metadata": {},
   "outputs": [],
   "source": []
  }
 ],
 "metadata": {
  "kernelspec": {
   "display_name": "Python 3",
   "language": "python",
   "name": "python3"
  },
  "language_info": {
   "codemirror_mode": {
    "name": "ipython",
    "version": 3
   },
   "file_extension": ".py",
   "mimetype": "text/x-python",
   "name": "python",
   "nbconvert_exporter": "python",
   "pygments_lexer": "ipython3",
   "version": "3.8.8"
  }
 },
 "nbformat": 4,
 "nbformat_minor": 5
}
