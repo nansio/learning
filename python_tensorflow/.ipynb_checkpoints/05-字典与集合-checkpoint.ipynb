{
 "cells": [
  {
   "cell_type": "markdown",
   "id": "1ecc5f0e",
   "metadata": {},
   "source": [
    "# 字典\n",
    "表示映射关系的键值对形式的数据结构\n"
   ]
  },
  {
   "cell_type": "code",
   "execution_count": 2,
   "id": "e7f3f831",
   "metadata": {},
   "outputs": [
    {
     "name": "stdout",
     "output_type": "stream",
     "text": [
      "{'math': 99, 'English': 88}\n",
      "True\n"
     ]
    }
   ],
   "source": [
    "dic_score = {'math': 99, 'English': 88}\n",
    "print(dic_score)\n",
    "len(dic_score) # 2\n",
    "print('math' in dic_score) # 判断字典是否存在某个元素"
   ]
  },
  {
   "cell_type": "markdown",
   "id": "1435e48e",
   "metadata": {},
   "source": [
    "### 字典的遍历"
   ]
  },
  {
   "cell_type": "code",
   "execution_count": 3,
   "id": "cd5d87e1",
   "metadata": {},
   "outputs": [
    {
     "name": "stdout",
     "output_type": "stream",
     "text": [
      "name,gender,age,score,小明,male,12,21,('name', '小明')\n",
      "('gender', 'male')\n",
      "('age', 12)\n",
      "('score', 21)\n"
     ]
    }
   ],
   "source": [
    "# keys() 关键字，values() 所有值，items() 键值对\n",
    "dic_student = {'name': '小明', 'gender': 'male', 'age': 12, 'score': 21}\n",
    "\n",
    "# 打印 keys\n",
    "for key in dic_student.keys():\n",
    "    print(key, end=\",\")\n",
    "\n",
    "# 打印 values\n",
    "for value in dic_student.values():\n",
    "    print(value, end=\",\")\n",
    "\n",
    "# 打印 items\n",
    "for item in dic_student.items():\n",
    "    print(item)"
   ]
  },
  {
   "cell_type": "markdown",
   "id": "1c7dce58",
   "metadata": {},
   "source": [
    "### 字典的增删改查"
   ]
  },
  {
   "cell_type": "code",
   "execution_count": 4,
   "id": "da9eb320",
   "metadata": {},
   "outputs": [
    {
     "name": "stdout",
     "output_type": "stream",
     "text": [
      "{'name': '小明', 'gender': 'male', 'age': 12, 'score': 21, 'hobby': 'badminton'}\n",
      "{'name': '小明', 'gender': 'male', 'age': 12, 'score': 21, 'hobby': 'swim'}\n",
      "{'name': '小明', 'age': 12, 'score': 21, 'hobby': 'swim'}\n",
      "{}\n"
     ]
    }
   ],
   "source": [
    "# 增与改 直接通过赋值语句实现\n",
    "dic_student['hobby'] = 'badminton'\n",
    "print(dic_student)\n",
    "dic_student['hobby'] = 'swim'\n",
    "print(dic_student)\n",
    "\n",
    "# new_dic = {'grade': 2}\n",
    "# dic_student.update(new_dic)\n",
    "\n",
    "# 删除 pop 删除指定元素 clear 清空字典 del语句\n",
    "dic_student.pop('gender')\n",
    "print(dic_student)\n",
    "dic_student.clear()\n",
    "print(dic_student)\n"
   ]
  },
  {
   "cell_type": "markdown",
   "id": "78746fca",
   "metadata": {},
   "source": [
    "# 集合\n",
    "一组无序排列的元素组成，分为可变集合(Set)与不可变集合(frozenset)"
   ]
  },
  {
   "cell_type": "code",
   "execution_count": 5,
   "id": "6d0b2f6d",
   "metadata": {},
   "outputs": [
    {
     "name": "stdout",
     "output_type": "stream",
     "text": [
      "{1, 2, 3, 4, 5}\n",
      "{1, 2, 3, 4, 5, 6, 7, 8, 9}\n",
      "frozenset({'h', 't', 'o', 'n', 'P'})\n"
     ]
    }
   ],
   "source": [
    "set1 = {1,2,3,4,4,5,5,2} # 集合会自动去重\n",
    "print(set1)\n",
    "\n",
    "# 创建集合的方式\n",
    "set2 = set(range(1,10))\n",
    "print(set2)\n",
    "set3 = frozenset('Pthon')\n",
    "print(set3)"
   ]
  }
 ],
 "metadata": {
  "kernelspec": {
   "display_name": "Python 3",
   "language": "python",
   "name": "python3"
  },
  "language_info": {
   "codemirror_mode": {
    "name": "ipython",
    "version": 3
   },
   "file_extension": ".py",
   "mimetype": "text/x-python",
   "name": "python",
   "nbconvert_exporter": "python",
   "pygments_lexer": "ipython3",
   "version": "3.8.8"
  }
 },
 "nbformat": 4,
 "nbformat_minor": 5
}
