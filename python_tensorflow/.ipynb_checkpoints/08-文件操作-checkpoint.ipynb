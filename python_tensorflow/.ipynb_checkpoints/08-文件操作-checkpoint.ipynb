{
 "cells": [
  {
   "cell_type": "markdown",
   "id": "b50abc96",
   "metadata": {},
   "source": [
    "# 文件操作"
   ]
  },
  {
   "cell_type": "code",
   "execution_count": 1,
   "id": "52a1244b",
   "metadata": {},
   "outputs": [
    {
     "name": "stdout",
     "output_type": "stream",
     "text": [
      "C:\\zyn\\python-files\n"
     ]
    }
   ],
   "source": [
    "import os\n",
    "print(os.getcwd())"
   ]
  },
  {
   "cell_type": "markdown",
   "id": "2838393c",
   "metadata": {},
   "source": [
    "### 文件访问模式\n",
    "\n",
    "|访问参数|执行操作|\n",
    "| :----: | :---- |\n",
    "|'r'|只读模式打开文件|\n",
    "|'w'|写入模式打开文件，会覆盖原有文件|\n",
    "|'a'|追加模式打开文件，在文件末位追加新内容|\n",
    "|'+'|以可读写的方式打开文件|\n",
    "|'b'|以二进制模式打开文件|\n",
    "|'t'|以文本模式打开文件（默认）|"
   ]
  },
  {
   "cell_type": "markdown",
   "id": "7e3973b3",
   "metadata": {},
   "source": [
    "### 读文件"
   ]
  },
  {
   "cell_type": "code",
   "execution_count": 5,
   "id": "26f16cdc",
   "metadata": {},
   "outputs": [
    {
     "data": {
      "text/plain": [
       "\"Explicit is better than implicit.\\nSimple is better than complex.\\nComplex is better than complicated.\\nFlat is better than nested.\\nSparse is better than dense.\\nReadability counts.\\nSpecial cases aren't special enough to break the rules.\\nAlthough practicality beats purity.\\nErrors should never pass silently.\\nUnless explicitly silenced.\\nIn the face of ambiguity, refuse the temptation to guess.\\nThere should be one-- and preferably only one --obvious way to do it.\\nAlthough that way may not be obvious at first unless you're Dutch.\\nNow is better than never.\\nAlthough never is often better than *right* now.\\nIf the implementation is hard to explain, it's a bad idea.\\nIf the implementation is easy to explain, it may be a good idea.\\nNamespaces are one honking great idea -- let's do more of those!\""
      ]
     },
     "execution_count": 5,
     "metadata": {},
     "output_type": "execute_result"
    }
   ],
   "source": [
    "f = open('txts/test.txt')\n",
    "f.readline()\n",
    "f.read()"
   ]
  },
  {
   "cell_type": "markdown",
   "id": "22a25a79",
   "metadata": {},
   "source": [
    "# 写文件"
   ]
  },
  {
   "cell_type": "code",
   "execution_count": 7,
   "id": "a7e3dbd1",
   "metadata": {},
   "outputs": [
    {
     "data": {
      "text/plain": [
       "\"Beautiful is better than ugly.\\nExplicit is better than implicit.\\nSimple is better than complex.\\nComplex is better than complicated.\\nFlat is better than nested.\\nSparse is better than dense.\\nReadability counts.\\nSpecial cases aren't special enough to break the rules.\\nAlthough practicality beats purity.\\nErrors should never pass silently.\\nUnless explicitly silenced.\\nIn the face of ambiguity, refuse the temptation to guess.\\nThere should be one-- and preferably only one --obvious way to do it.\\nAlthough that way may not be obvious at first unless you're Dutch.\\nNow is better than never.\\nAlthough never is often better than *right* now.\\nIf the implementation is hard to explain, it's a bad idea.\\nIf the implementation is easy to explain, it may be a good idea.\\nNamespaces are one honking great idea -- let's do more of those!added by zynadded by zyn\""
      ]
     },
     "execution_count": 7,
     "metadata": {},
     "output_type": "execute_result"
    }
   ],
   "source": [
    "f.close()\n",
    "f = open('txts/test.txt', 'a')\n",
    "f.write('added by zyn')\n",
    "f.close()\n",
    "f = open('txts/test.txt')\n",
    "f.read()"
   ]
  },
  {
   "cell_type": "code",
   "execution_count": null,
   "id": "02e37708",
   "metadata": {},
   "outputs": [],
   "source": []
  }
 ],
 "metadata": {
  "kernelspec": {
   "display_name": "Python 3",
   "language": "python",
   "name": "python3"
  },
  "language_info": {
   "codemirror_mode": {
    "name": "ipython",
    "version": 3
   },
   "file_extension": ".py",
   "mimetype": "text/x-python",
   "name": "python",
   "nbconvert_exporter": "python",
   "pygments_lexer": "ipython3",
   "version": "3.8.8"
  }
 },
 "nbformat": 4,
 "nbformat_minor": 5
}
