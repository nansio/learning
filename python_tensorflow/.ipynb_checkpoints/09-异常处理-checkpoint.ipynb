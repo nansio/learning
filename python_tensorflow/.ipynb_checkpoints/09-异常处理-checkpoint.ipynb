{
 "cells": [
  {
   "cell_type": "markdown",
   "id": "73b9cc0c",
   "metadata": {},
   "source": [
    "# 异常处理\n",
    "\n",
    "语法格式\n",
    "\n",
    "```python\n",
    "try:\n",
    "    # code block\n",
    "except Exception1 as Cause:\n",
    "    # exception1 handler code here\n",
    "except Exception as Cauze:\n",
    "    # exception2 handler code here\n",
    "finally:\n",
    "    # code to run no matter success or not\n",
    "```"
   ]
  },
  {
   "cell_type": "code",
   "execution_count": 2,
   "id": "fbf95fe7",
   "metadata": {},
   "outputs": [
    {
     "name": "stdout",
     "output_type": "stream",
     "text": [
      "list index out of range\n",
      "Exception handled\n",
      "process notinue...\n"
     ]
    }
   ],
   "source": [
    "try:\n",
    "    aList = [0,1,2]\n",
    "    print(aList[3])\n",
    "    print('try block code continue...')\n",
    "except IndexError as e:\n",
    "    print(e)\n",
    "    print('Exception handled')\n",
    "finally:\n",
    "    print('process notinue...')"
   ]
  },
  {
   "cell_type": "markdown",
   "id": "7d739fb0",
   "metadata": {},
   "source": [
    "### Python中常见的异常类\n",
    "\n",
    "- IOError: 输入/输出异常（无法打开文件）\n",
    "- ImportError: 无法导入模块或包（基本上路径问题/名称错误）\n",
    "- IndentationError: 缩进错误（代码没有正确对齐）\n",
    "- NameError: 没有声明或初始化对象\n",
    "- KeyError: 试图访问字典里不存在的键值\n",
    "- AttributeError: 试图访问一个对象没有的属性\n",
    "- TypeError: 类型不匹配\n",
    "- ValueError: 传入一个调用者不期望的值，即使值的类型是正确的\n",
    "\n",
    "> Exception类是所有非系统退出类异常类的基类，可通过捕获它来避免程序遇到错误时而退出"
   ]
  }
 ],
 "metadata": {
  "kernelspec": {
   "display_name": "Python 3",
   "language": "python",
   "name": "python3"
  },
  "language_info": {
   "codemirror_mode": {
    "name": "ipython",
    "version": 3
   },
   "file_extension": ".py",
   "mimetype": "text/x-python",
   "name": "python",
   "nbconvert_exporter": "python",
   "pygments_lexer": "ipython3",
   "version": "3.8.8"
  }
 },
 "nbformat": 4,
 "nbformat_minor": 5
}
