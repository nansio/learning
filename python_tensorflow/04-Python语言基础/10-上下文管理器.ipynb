{
 "cells": [
  {
   "cell_type": "markdown",
   "id": "3ec6c8eb",
   "metadata": {},
   "source": [
    "# 上下文管理器\n",
    "\n",
    "上下文管理器是Python中的一种协议，它保证了每次代码执行的一致性\n",
    "\n",
    "一旦进入上下文管理器，就一定会按照规定的步骤退出\n",
    "\n",
    "如果合理的设计了退出上下文管理器的步骤，就可以很好的处理异常\n",
    "\n",
    "上下文管理器被最多用到的场景就是*资源清理*操作\n",
    "\n",
    "实现上下文管理器，只要在类定义的时候，实现\\_\\_enter\\_\\_方法和\\_\\_exit()\\_\\_即可"
   ]
  },
  {
   "cell_type": "code",
   "execution_count": 1,
   "id": "1fbee9c6",
   "metadata": {},
   "outputs": [
    {
     "name": "stdout",
     "output_type": "stream",
     "text": [
      "Beautiful is better than ugly.\n",
      "Explicit is better than implicit.\n",
      "Simple is better than complex.\n",
      "Complex is better than complicated.\n",
      "Flat is better than nested.\n",
      "Sparse is better than dense.\n",
      "Readability counts.\n",
      "Special cases aren't special enough to break the rules.\n",
      "Although practicality beats purity.\n",
      "Errors should never pass silently.\n",
      "Unless explicitly silenced.\n",
      "In the face of ambiguity, refuse the temptation to guess.\n",
      "There should be one-- and preferably only one --obvious way to do it.\n",
      "Although that way may not be obvious at first unless you're Dutch.\n",
      "Now is better than never.\n",
      "Although never is often better than *right* now.\n",
      "If the implementation is hard to explain, it's a bad idea.\n",
      "If the implementation is easy to explain, it may be a good idea.\n",
      "Namespaces are one honking great idea -- let's do more of those!added by zynadded by zyn\n"
     ]
    }
   ],
   "source": [
    "with open('txts/test.txt') as f:\n",
    "    print(f.read())\n",
    "    \n",
    "# with语句完成后，会自动关闭文件"
   ]
  },
  {
   "cell_type": "code",
   "execution_count": 3,
   "id": "7a895470",
   "metadata": {},
   "outputs": [
    {
     "name": "stdout",
     "output_type": "stream",
     "text": [
      "class A's __enter__ function.\n",
      "what\n",
      "calss A's __exit__ function.\n"
     ]
    }
   ],
   "source": [
    "class A:\n",
    "    def __init__(self, a):\n",
    "        self.a = a\n",
    "    def __enter__(self):\n",
    "        print('class A\\'s __enter__ function.')\n",
    "    def __exit__(self, exc_type, exc_val, exc_tb):\n",
    "        print('calss A\\'s __exit__ function.')\n",
    "        \n",
    "ins = A('b')\n",
    "with ins as i:\n",
    "    print('what')\n"
   ]
  }
 ],
 "metadata": {
  "kernelspec": {
   "display_name": "Python 3",
   "language": "python",
   "name": "python3"
  },
  "language_info": {
   "codemirror_mode": {
    "name": "ipython",
    "version": 3
   },
   "file_extension": ".py",
   "mimetype": "text/x-python",
   "name": "python",
   "nbconvert_exporter": "python",
   "pygments_lexer": "ipython3",
   "version": "3.8.8"
  }
 },
 "nbformat": 4,
 "nbformat_minor": 5
}
