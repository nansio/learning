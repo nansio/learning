{
 "cells": [
  {
   "cell_type": "markdown",
   "id": "6801f52a",
   "metadata": {},
   "source": [
    "# 类的创建"
   ]
  },
  {
   "cell_type": "code",
   "execution_count": 3,
   "id": "07b72462",
   "metadata": {},
   "outputs": [
    {
     "name": "stdout",
     "output_type": "stream",
     "text": [
      "10000\n",
      "hello!\n"
     ]
    }
   ],
   "source": [
    "class Person:\n",
    "    money=10000\n",
    "    def hello(self): # 函数的第一个参数要是self,相当于JS中this\n",
    "        print('hello!')\n",
    "zhangsan = Person()\n",
    "print(zhangsan.money)\n",
    "zhangsan.hello()\n",
    "del zhangsan # 删除对象"
   ]
  },
  {
   "cell_type": "markdown",
   "id": "c731858a",
   "metadata": {},
   "source": [
    "### 构造函数与析构函数"
   ]
  },
  {
   "cell_type": "code",
   "execution_count": 4,
   "id": "aa6296c8",
   "metadata": {},
   "outputs": [
    {
     "name": "stdout",
     "output_type": "stream",
     "text": [
      "name: 张三 age: 22 gender: male\n",
      "name: 李四 age: 21 gender: female\n",
      "bye bye from 张三\n",
      "bye bye from 李四\n"
     ]
    }
   ],
   "source": [
    "class Student:\n",
    "    # 构造函数\n",
    "    def __init__(self, name, age, gender='male'):\n",
    "        self.name = name\n",
    "        self.age = age\n",
    "        self.gender = gender\n",
    "    # 析构函数\n",
    "    def __del__(self):\n",
    "        print('bye bye from', self.name)\n",
    "    def printInfo(self):\n",
    "        print('name:', self.name, 'age:', self.age, 'gender:', self.gender)\n",
    "zhangsan = Student('张三', 22)\n",
    "lisi = Student('李四', 21, 'female')\n",
    "\n",
    "zhangsan.printInfo()\n",
    "lisi.printInfo()\n",
    "\n",
    "# del 对象实例将会调用析构函数\n",
    "del zhangsan\n",
    "del lisi"
   ]
  },
  {
   "cell_type": "markdown",
   "id": "eb42752d",
   "metadata": {},
   "source": [
    "### 类方法与静态方法\n",
    "\n",
    "1. 类方法：\n",
    "可以访问类属性，不能访问实例属性\n",
    "通过@classmethod修饰\n",
    "2. 静态方法：\n",
    "不能访问实例属性，不能直接访问类属性，可以通过类名来引用类属性\n",
    "通过@staticmethod修饰\n",
    "\n",
    "```python\n",
    "class Person:\n",
    "    @classmethod\n",
    "    def clsmethod(cls,name,age):\n",
    "        # ...\n",
    "class Student:\n",
    "    @staticmethod()\n",
    "    def staticfunc():\n",
    "        # ...\n",
    "```"
   ]
  },
  {
   "cell_type": "markdown",
   "id": "8e7659b9",
   "metadata": {},
   "source": [
    "### 共有变量与私有变量\n",
    "\n",
    "- 私有变量：__XXX\n",
    "- 保护变量：_XXX\n",
    "- 共有变量：非下划线开始的其他变量\n",
    "- 专有变量方法： \\_\\_XXX\\_\\_"
   ]
  },
  {
   "cell_type": "markdown",
   "id": "1c179ad3",
   "metadata": {},
   "source": [
    "### 继承\n",
    "\n",
    "子类能够继承父类所有非私有的成员变量和成员函数\n",
    "\n",
    "```python\n",
    "class Person:\n",
    "    name = 'aname'\n",
    "    def sayMyName(self):\n",
    "        print('hello motherfucker say my name')\n",
    "\n",
    "class Student(Person):\n",
    "    pass # 不做任何操作\n",
    "\n",
    "Jack = Student()\n",
    "print(Jack.name)\n",
    "Jack.sayMyName()\n",
    "```"
   ]
  },
  {
   "cell_type": "code",
   "execution_count": 5,
   "id": "d6b732af",
   "metadata": {},
   "outputs": [
    {
     "name": "stdout",
     "output_type": "stream",
     "text": [
      "aname\n",
      "hello motherfucker say my name\n"
     ]
    }
   ],
   "source": [
    "class Person:\n",
    "    name = 'aname'\n",
    "    def sayMyName(self):\n",
    "        print('hello motherfucker say my name')\n",
    "\n",
    "class Student(Person):\n",
    "    pass # 不做任何操作\n",
    "\n",
    "Jack = Student()\n",
    "print(Jack.name)\n",
    "Jack.sayMyName()"
   ]
  }
 ],
 "metadata": {
  "kernelspec": {
   "display_name": "Python 3",
   "language": "python",
   "name": "python3"
  },
  "language_info": {
   "codemirror_mode": {
    "name": "ipython",
    "version": 3
   },
   "file_extension": ".py",
   "mimetype": "text/x-python",
   "name": "python",
   "nbconvert_exporter": "python",
   "pygments_lexer": "ipython3",
   "version": "3.8.8"
  }
 },
 "nbformat": 4,
 "nbformat_minor": 5
}
